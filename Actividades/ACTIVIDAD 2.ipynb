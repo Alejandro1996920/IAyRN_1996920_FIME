{
  "nbformat": 4,
  "nbformat_minor": 0,
  "metadata": {
    "colab": {
      "provenance": []
    },
    "kernelspec": {
      "name": "python3",
      "display_name": "Python 3"
    },
    "language_info": {
      "name": "python"
    }
  },
  "cells": [
    {
      "cell_type": "code",
      "source": [
        "# Problema 1\n",
        "# Solicitar al usuario su nombre\n",
        "nombre = input(\"Por favor, ingresa tu nombre: \")\n",
        "\n",
        "\n",
        "# Verifica si el nombre esta en la lista de nombres espeaciales\n",
        "nombres_especiales = (\"Ana\" , \"Juan\" , \"Pedro\")\n",
        "\n",
        "if nombre in nombres_especiales:\n",
        "  print(\"Hola!\")\n",
        "else:\n",
        "  print(\"Hola, \"+ nombre + \"!\")\n"
      ],
      "metadata": {
        "colab": {
          "base_uri": "https://localhost:8080/"
        },
        "id": "QnfDvTc5CqGY",
        "outputId": "746e358c-c386-4913-f9ae-399211bdd120"
      },
      "execution_count": 14,
      "outputs": [
        {
          "output_type": "stream",
          "name": "stdout",
          "text": [
            "Por favor, ingresa tu nombre: Ana\n",
            "Hola!\n"
          ]
        }
      ]
    },
    {
      "cell_type": "code",
      "source": [
        "# Problema 2\n",
        "def invertir_lista():\n",
        "  # Solicitar al usuario la cantidad de elemnetos de la lista\n",
        "  n = int(input(\"Ingrese la cantidad de elemntos en la lista: \"))\n",
        "\n",
        "  # Solicitar al usuario la lista de elementos\n",
        "  lista_original = []\n",
        "  for i in range(n):\n",
        "    elemento = input(\"Ingrese el elemento {}: \".format(i + 1))\n",
        "    lista_original.append(elemento)\n",
        "\n",
        "  # Invertir la lista\n",
        "  lista_invertida = lista_original[::-1]\n",
        "\n",
        "\n",
        "  # Mostrar la lista original y la lista invertida\n",
        "  print(\"\\nLista Original:\", lista_original)\n",
        "  print(\"\\nLista Invertida:\", lista_invertida)\n",
        "\n",
        "invertir_lista()\n"
      ],
      "metadata": {
        "colab": {
          "base_uri": "https://localhost:8080/"
        },
        "id": "nnKl503zLWn1",
        "outputId": "787879ed-a44e-4834-fe2b-0967893aac81"
      },
      "execution_count": 20,
      "outputs": [
        {
          "output_type": "stream",
          "name": "stdout",
          "text": [
            "Ingrese la cantidad de elemntos en la lista: 7\n",
            "Ingrese el elemento 1: Pollo\n",
            "Ingrese el elemento 2: Cheve\n",
            "Ingrese el elemento 3: Carbon\n",
            "Ingrese el elemento 4: Sal\n",
            "Ingrese el elemento 5: Limon\n",
            "Ingrese el elemento 6: Platos\n",
            "Ingrese el elemento 7: Vasos\n",
            "\n",
            "Lista Original: ['Pollo', 'Cheve', 'Carbon', 'Sal', 'Limon', 'Platos', 'Vasos']\n",
            "\n",
            "Lista Invertida: ['Vasos', 'Platos', 'Limon', 'Sal', 'Carbon', 'Cheve', 'Pollo']\n"
          ]
        }
      ]
    },
    {
      "cell_type": "code",
      "source": [
        "# Problema 3\n",
        "\n",
        "def fibonacci(n):\n",
        "  i, j = 0, 1\n",
        "  fib_list = []\n",
        "  while len(fib_list) < n:\n",
        "    fib_list.append(i)\n",
        "    i, j = j, i + j\n",
        "  return fib_list\n",
        "\n",
        "\n",
        "n = int(input(\"¿Cuántos números de Fibonacci quieres generar? \"))\n",
        "fib_list = fibonacci(n)\n",
        "print(\"Los primeros {} números de Fibonacci son:\".format(n))\n",
        "for num in fib_list:\n",
        "  print(num)\n"
      ],
      "metadata": {
        "colab": {
          "base_uri": "https://localhost:8080/"
        },
        "id": "rBCuwElrMm6w",
        "outputId": "4a8cdf40-7f6c-49e4-d2ca-f0f29e4f8efe"
      },
      "execution_count": 21,
      "outputs": [
        {
          "output_type": "stream",
          "name": "stdout",
          "text": [
            "¿Cuántos números de Fibonacci quieres generar? 4\n",
            "Los primeros 4 números de Fibonacci son:\n",
            "0\n",
            "1\n",
            "1\n",
            "2\n"
          ]
        }
      ]
    },
    {
      "cell_type": "code",
      "source": [
        "# Problema 4\n",
        "import random\n",
        "\n",
        "target_number = random.randint(1, 100)\n",
        "\n",
        "guess = None\n",
        "attempts = 0\n",
        "\n",
        "while guess != target_number:\n",
        "  guess = int(input(\"Adivina el número (entre 1 y 100): \"))\n",
        "\n",
        "  attempts += 1\n",
        "\n",
        "  if guess > target_number:\n",
        "    print(\"El número es menor.\")\n",
        "  elif guess < target_number:\n",
        "    print(\"El número es mayor.\")\n",
        "\n",
        "print(f\"¡Adivinaste! El número era {target_number}.\")\n",
        "print(f\"Número de intentos: {attempts}\")\n"
      ],
      "metadata": {
        "colab": {
          "base_uri": "https://localhost:8080/"
        },
        "id": "gjQp_GfjNu29",
        "outputId": "56d2286b-fa89-49f9-8290-c85603db5973"
      },
      "execution_count": 22,
      "outputs": [
        {
          "output_type": "stream",
          "name": "stdout",
          "text": [
            "Adivina el número (entre 1 y 100): 75\n",
            "El número es menor.\n",
            "Adivina el número (entre 1 y 100): 30\n",
            "El número es menor.\n",
            "Adivina el número (entre 1 y 100): 15\n",
            "El número es mayor.\n",
            "Adivina el número (entre 1 y 100): 25\n",
            "El número es menor.\n",
            "Adivina el número (entre 1 y 100): 20\n",
            "¡Adivinaste! El número era 20.\n",
            "Número de intentos: 5\n"
          ]
        }
      ]
    },
    {
      "cell_type": "code",
      "source": [
        "# Problema 5\n",
        "def is_prime(num):\n",
        "  if num < 2:\n",
        "    return False\n",
        "  for i in range(2, int(num**0.5) + 1):\n",
        "    if num % i == 0:\n",
        "      return False\n",
        "  return True\n",
        "\n",
        "def find_primes_in_range(start, end):\n",
        "  primes = []\n",
        "  for num in range(start, end + 1):\n",
        "    if is_prime(num):\n",
        "      primes.append(num)\n",
        "  return primes\n",
        "\n",
        "# Get input from the user\n",
        "start = int(input(\"Introduzca el numero inicial del rango: \"))\n",
        "end = int(input(\"Introduzcael numero final del rango: \"))\n",
        "\n",
        "# Find and print prime numbers within the range\n",
        "primes = find_primes_in_range(start, end)\n",
        "print(\"Numeros primos dentros del rango\", primes)\n"
      ],
      "metadata": {
        "colab": {
          "base_uri": "https://localhost:8080/"
        },
        "id": "NaHeKcj7Pkb-",
        "outputId": "2e7e047a-187e-48f8-cd58-8e390221410d"
      },
      "execution_count": 23,
      "outputs": [
        {
          "output_type": "stream",
          "name": "stdout",
          "text": [
            "Introduzca el numero inicial del rango: 4\n",
            "Introduzcael numero final del rango: 100\n",
            "Numeros primos dentros del rango [5, 7, 11, 13, 17, 19, 23, 29, 31, 37, 41, 43, 47, 53, 59, 61, 67, 71, 73, 79, 83, 89, 97]\n"
          ]
        }
      ]
    },
    {
      "cell_type": "code",
      "source": [
        "# Problema 6\n",
        "def suma(a, b):\n",
        "  return a + b\n",
        "\n",
        "def resta(a, b):\n",
        "  return a - b\n",
        "\n",
        "def multiplicacion(a, b):\n",
        "  return a * b\n",
        "\n",
        "def division(a, b):\n",
        "  if b == 0:\n",
        "    raise ValueError(\"No se puede dividir por cero\")\n",
        "  return a / b\n",
        "\n",
        "def main():\n",
        "  a = float(input(\"Introduzca el primer número: \"))\n",
        "  b = float(input(\"Introduzca el segundo número: \"))\n",
        "\n",
        "  print(\"Suma:\", suma(a, b))\n",
        "  print(\"Resta:\", resta(a, b))\n",
        "  print(\"Multiplicación:\", multiplicacion(a, b))\n",
        "  print(\"División:\", division(a, b))\n",
        "\n",
        "if __name__ == \"__main__\":\n",
        "  main()\n"
      ],
      "metadata": {
        "colab": {
          "base_uri": "https://localhost:8080/"
        },
        "id": "7O_7nNPrR14O",
        "outputId": "49dd905e-317c-40f1-e84f-f6603cf30f02"
      },
      "execution_count": 24,
      "outputs": [
        {
          "output_type": "stream",
          "name": "stdout",
          "text": [
            "Introduzca el primer número: 78\n",
            "Introduzca el segundo número: 34\n",
            "Suma: 112.0\n",
            "Resta: 44.0\n",
            "Multiplicación: 2652.0\n",
            "División: 2.2941176470588234\n"
          ]
        }
      ]
    }
  ]
}