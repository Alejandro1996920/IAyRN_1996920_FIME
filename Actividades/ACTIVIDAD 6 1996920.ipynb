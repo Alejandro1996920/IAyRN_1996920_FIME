{
  "cells": [
    {
      "cell_type": "code",
      "source": [
        "import numpy as np\n",
        "import matplotlib.pyplot as plt\n",
        "import tensorflow as tf\n",
        "from tensorflow.keras.datasets import mnist\n",
        "from tensorflow.keras.models import Sequential\n",
        "from tensorflow.keras.layers import Conv2D, MaxPooling2D, Flatten, Dense\n",
        "\n",
        "# Carga al conjunto de datos MNIST\n",
        "(train_data, train_labels), (test_data, test_labels) = mnist.load_data()\n",
        "\n",
        "# Preprocesamiento de los datos\n",
        "train_data = train_data.reshape((train_data.shape[0], 28, 28, 1)).astype('float32') / 255\n",
        "test_data = test_data.reshape((test_data.shape[0], 28, 28, 1)).astype('float32') / 255\n",
        "\n",
        "# Definir la estructura de la red neuronal convolucional\n",
        "model = Sequential([\n",
        "    Conv2D(32, (3, 3), activation='relu', input_shape=(28, 28, 1)),\n",
        "    MaxPooling2D((2, 2)),\n",
        "    Conv2D(64, (3, 3), activation='relu'),\n",
        "    MaxPooling2D((2, 2)),\n",
        "    Flatten(),\n",
        "    Dense(128, activation='relu'),\n",
        "    Dense(10, activation='softmax')\n",
        "])\n",
        "\n",
        "model.compile(optimizer='adam',\n",
        "              loss='sparse_categorical_crossentropy',\n",
        "              metrics=['accuracy'])\n",
        "# Entrenamiento del modelo\n",
        "history = model.fit(train_data, train_labels, epochs=5, validation_data=(test_data, test_labels))\n",
        "\n",
        "# Evaluar el modelo con los datos de prueba\n",
        "test_loss, test_accuracy = model.evaluate(test_data, test_labels)\n",
        "print(\"Exactitud del modelo en datos de prueba:\", test_accuracy)\n",
        "# Realizar predicciones y mostrar las imágenes\n",
        "num_predicciones = 5\n",
        "indices_aleatorios = np.random.choice(test_data.shape[0], num_predicciones, replace=False)\n",
        "plt.figure(figsize=(15, 5))\n",
        "for i, idx in enumerate(indices_aleatorios):\n",
        "    plt.subplot(1, num_predicciones, i + 1)\n",
        "    plt.imshow(test_data[idx].reshape(28, 28), cmap='gray')\n",
        "    plt.axis('off')\n",
        "    # Realizar la predicción\n",
        "    prediction = model.predict(np.expand_dims(test_data[idx], axis=0))\n",
        "    predicted_label = np.argmax(prediction)\n",
        "    actual_label = test_labels[idx]\n",
        "    plt.title(f\"Predicción: {predicted_label}\\nValor real: {actual_label}\")\n"
      ],
      "metadata": {
        "colab": {
          "base_uri": "https://localhost:8080/",
          "height": 541
        },
        "id": "Nw_gyi_QNgK8",
        "outputId": "3939e782-3280-4f80-e107-5d08429ea402"
      },
      "execution_count": 2,
      "outputs": [
        {
          "output_type": "stream",
          "name": "stdout",
          "text": [
            "Epoch 1/5\n",
            "1875/1875 [==============================] - 59s 31ms/step - loss: 0.1315 - accuracy: 0.9597 - val_loss: 0.0512 - val_accuracy: 0.9830\n",
            "Epoch 2/5\n",
            "1875/1875 [==============================] - 57s 30ms/step - loss: 0.0460 - accuracy: 0.9857 - val_loss: 0.0362 - val_accuracy: 0.9880\n",
            "Epoch 3/5\n",
            "1875/1875 [==============================] - 56s 30ms/step - loss: 0.0292 - accuracy: 0.9907 - val_loss: 0.0297 - val_accuracy: 0.9900\n",
            "Epoch 4/5\n",
            "1875/1875 [==============================] - 57s 30ms/step - loss: 0.0217 - accuracy: 0.9933 - val_loss: 0.0301 - val_accuracy: 0.9905\n",
            "Epoch 5/5\n",
            "1875/1875 [==============================] - 58s 31ms/step - loss: 0.0168 - accuracy: 0.9946 - val_loss: 0.0377 - val_accuracy: 0.9883\n",
            "313/313 [==============================] - 3s 8ms/step - loss: 0.0377 - accuracy: 0.9883\n",
            "Exactitud del modelo en datos de prueba: 0.9883000254631042\n",
            "1/1 [==============================] - 0s 115ms/step\n",
            "1/1 [==============================] - 0s 21ms/step\n",
            "1/1 [==============================] - 0s 21ms/step\n",
            "1/1 [==============================] - 0s 21ms/step\n",
            "1/1 [==============================] - 0s 32ms/step\n"
          ]
        },
        {
          "output_type": "display_data",
          "data": {
            "text/plain": [
              "<Figure size 1500x500 with 5 Axes>"
            ],
            "image/png": "[encoded data removed]"
          },
          "metadata": {}
        }
      ]
    }
  ],
  "metadata": {
    "colab": {
      "name": "Te damos la bienvenida a Colaboratory",
      "toc_visible": true,
      "provenance": []
    },
    "kernelspec": {
      "display_name": "Python 3",
      "name": "python3"
    }
  },
  "nbformat": 4,
  "nbformat_minor": 0
}